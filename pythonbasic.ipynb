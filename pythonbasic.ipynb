{
  "nbformat": 4,
  "nbformat_minor": 0,
  "metadata": {
    "colab": {
      "provenance": [],
      "authorship_tag": "ABX9TyPipU2o7tJP8TWOb5L/Czdt",
      "include_colab_link": true
    },
    "kernelspec": {
      "name": "python3",
      "display_name": "Python 3"
    },
    "language_info": {
      "name": "python"
    }
  },
  "cells": [
    {
      "cell_type": "markdown",
      "metadata": {
        "id": "view-in-github",
        "colab_type": "text"
      },
      "source": [
        "<a href=\"https://colab.research.google.com/github/anko2603/python-basic-problem/blob/main/pythonbasic.ipynb\" target=\"_parent\"><img src=\"https://colab.research.google.com/assets/colab-badge.svg\" alt=\"Open In Colab\"/></a>"
      ]
    },
    {
      "cell_type": "code",
      "execution_count": null,
      "metadata": {
        "colab": {
          "base_uri": "https://localhost:8080/"
        },
        "id": "XFPk-_UfNySo",
        "outputId": "2f829191-91ab-4dde-ce06-1fc03cc5b178"
      },
      "outputs": [
        {
          "output_type": "stream",
          "name": "stdout",
          "text": [
            "The result is: 600\n",
            "The result is: 90\n"
          ]
        }
      ],
      "source": [
        "#Exercise 1:Calculate the multiplication and sum of two numbers?\n",
        "def multiplication_sum(num1,num2):\n",
        "  #create product of multiplication of number\n",
        "  product = num1*num2\n",
        "  if product<=1000:\n",
        "    return product\n",
        "  else:\n",
        "    return num1+num2\n",
        "#first condition\n",
        "result = multiplication_sum(30,20)\n",
        "print(\"The result is:\",result)\n",
        "result= multiplication_sum(40,50)\n",
        "print(\"The result is:\",result)"
      ]
    },
    {
      "cell_type": "code",
      "source": [
        "#Exercise 2:Print the sum of the current number and the previous number?\n",
        "previous_num=0\n",
        "for i in range(1,11):\n",
        "  x_sum=previous_num+i\n",
        "  print(\"current num:\",i,\"previous num:\",previous_num,\"sum:\",x_sum)\n",
        "  previous_num=i"
      ],
      "metadata": {
        "colab": {
          "base_uri": "https://localhost:8080/"
        },
        "id": "CeXx0NRXSIce",
        "outputId": "04150869-ecf5-4afd-cd81-356dbfaf02fa"
      },
      "execution_count": null,
      "outputs": [
        {
          "output_type": "stream",
          "name": "stdout",
          "text": [
            "current num: 1 previous num: 0 sum: 1\n",
            "current num: 2 previous num: 1 sum: 3\n",
            "current num: 3 previous num: 2 sum: 5\n",
            "current num: 4 previous num: 3 sum: 7\n",
            "current num: 5 previous num: 4 sum: 9\n",
            "current num: 6 previous num: 5 sum: 11\n",
            "current num: 7 previous num: 6 sum: 13\n",
            "current num: 8 previous num: 7 sum: 15\n",
            "current num: 9 previous num: 8 sum: 17\n",
            "current num: 10 previous num: 9 sum: 19\n"
          ]
        }
      ]
    },
    {
      "cell_type": "code",
      "source": [
        "#Exercise 3:Print characters from a string that are present at an even index number?\n",
        "word=input('Enter word ')\n",
        "#print(\"original string:\",word)\n",
        "size=len(word)\n",
        "print(\"Printing only even index char\")\n",
        "for i in range(0,size-1,2):\n",
        "  print(\"index[\",i,\"]\",word[i])"
      ],
      "metadata": {
        "colab": {
          "base_uri": "https://localhost:8080/"
        },
        "id": "AYKIjsAkUEzr",
        "outputId": "28625742-5ea2-4cd6-b184-f8fe4a61ee0e"
      },
      "execution_count": null,
      "outputs": [
        {
          "output_type": "stream",
          "name": "stdout",
          "text": [
            "Enter word pynative\n",
            "Printing only even index char\n",
            "index[ 0 ] p\n",
            "index[ 2 ] n\n",
            "index[ 4 ] t\n",
            "index[ 6 ] v\n"
          ]
        }
      ]
    },
    {
      "cell_type": "code",
      "source": [
        "#Exercise 4:Remove first n characters from a string?\n",
        "def remove_char(word,n):\n",
        "  print(\"original string:\",word)\n",
        "  x=word[n:]\n",
        "  return x\n",
        "print(\"Removing the character to string\")\n",
        "print(remove_char(\"pynative\",4))\n",
        "print(remove_char(\"pynative\",2))"
      ],
      "metadata": {
        "colab": {
          "base_uri": "https://localhost:8080/"
        },
        "id": "Z7XC_mxPbYmV",
        "outputId": "1ad2141a-6732-4dff-e83e-b38fc26da918"
      },
      "execution_count": null,
      "outputs": [
        {
          "output_type": "stream",
          "name": "stdout",
          "text": [
            "Removing the character to string\n",
            "original string: pynative\n",
            "tive\n",
            "original string: pynative\n",
            "native\n"
          ]
        }
      ]
    },
    {
      "cell_type": "code",
      "source": [
        "#Exercise 5:Check if the first and last number of a list is the same?\n",
        "def First_last_same(number_list):\n",
        "  print(\"Given list\",number_list)\n",
        "\n",
        "  First_number= number_list[0]\n",
        "  last_number = number_list[-1]\n",
        "  if First_number==last_number:\n",
        "    return True\n",
        "  else:\n",
        "    return False\n",
        "numbers_x = [10, 20, 30, 40, 10]\n",
        "print(\"result is\", First_last_same(numbers_x))\n",
        "\n",
        "numbers_y = [75, 65, 35, 75, 30]\n",
        "print(\"result is\", First_last_same(numbers_y))"
      ],
      "metadata": {
        "colab": {
          "base_uri": "https://localhost:8080/"
        },
        "id": "SKMtYSK4jMiq",
        "outputId": "db816666-647f-4e42-c073-d15eeda34c3d"
      },
      "execution_count": null,
      "outputs": [
        {
          "output_type": "stream",
          "name": "stdout",
          "text": [
            "Given list [10, 20, 30, 40, 10]\n",
            "result is True\n",
            "Given list [75, 65, 35, 75, 30]\n",
            "result is False\n"
          ]
        }
      ]
    },
    {
      "cell_type": "code",
      "source": [
        "#Exercise 6:Display numbers divisible by 5 from a list?\n",
        "list=[10,20,30,46,44,55]\n",
        "print(\"Enter the list:\",list)\n",
        "for num in list:\n",
        "  if num%5==0:\n",
        "    print(num)"
      ],
      "metadata": {
        "colab": {
          "base_uri": "https://localhost:8080/"
        },
        "id": "7K7l5yBcmWq2",
        "outputId": "f1357b89-4e91-4b57-e79d-241be0a8e302"
      },
      "execution_count": null,
      "outputs": [
        {
          "output_type": "stream",
          "name": "stdout",
          "text": [
            "Enter the list: [10, 20, 30, 46, 44, 55]\n",
            "10\n",
            "20\n",
            "30\n",
            "55\n"
          ]
        }
      ]
    },
    {
      "cell_type": "code",
      "source": [
        "#Exercise 7: Return the count of a given substring from a string?\n",
        "#Solution 1: Without string method\n",
        "str_x = \"Emma is good developer. Emma is a writer\"\n",
        "#use count function\n",
        "cnt=str_x.count(\"Emma\")\n",
        "print(cnt)\n",
        "#Solution 2: Without string method\n"
      ],
      "metadata": {
        "colab": {
          "base_uri": "https://localhost:8080/"
        },
        "id": "R8UPhx8XsWEW",
        "outputId": "3129d6b0-45aa-4542-e5f3-aa3d10d27d34"
      },
      "execution_count": null,
      "outputs": [
        {
          "output_type": "stream",
          "name": "stdout",
          "text": [
            "2\n"
          ]
        }
      ]
    },
    {
      "cell_type": "code",
      "source": [
        "#Exercise 8: Print the following pattern?\n",
        "for num in range(10):\n",
        "  for i in range(num):\n",
        "    print(num,end=\" \")\n",
        "  print(\"\\n\")"
      ],
      "metadata": {
        "id": "wQqhdgj_R6LM",
        "colab": {
          "base_uri": "https://localhost:8080/"
        },
        "outputId": "f47c5e4a-f037-48a9-bab8-bf248d1abe5f"
      },
      "execution_count": null,
      "outputs": [
        {
          "output_type": "stream",
          "name": "stdout",
          "text": [
            "\n",
            "\n",
            "1 \n",
            "\n",
            "2 2 \n",
            "\n",
            "3 3 3 \n",
            "\n",
            "4 4 4 4 \n",
            "\n",
            "5 5 5 5 5 \n",
            "\n",
            "6 6 6 6 6 6 \n",
            "\n",
            "7 7 7 7 7 7 7 \n",
            "\n",
            "8 8 8 8 8 8 8 8 \n",
            "\n",
            "9 9 9 9 9 9 9 9 9 \n",
            "\n"
          ]
        }
      ]
    },
    {
      "cell_type": "code",
      "source": [
        "#Exercise 9: check the palindrome?\n",
        "def is_palindrome(number):\n",
        "    reverse_num = 0\n",
        "    original_number = number\n",
        "\n",
        "    while number > 0:\n",
        "        reminder = number % 10\n",
        "        reverse_num = (reverse_num * 10) + reminder\n",
        "        number = number // 10\n",
        "\n",
        "    if original_number == reverse_num:\n",
        "        return True\n",
        "    else:\n",
        "        return False\n",
        "\n",
        "# Example usage\n",
        "num = 12321\n",
        "if is_palindrome(num):\n",
        "    print(num, \"is a palindrome\")\n",
        "else:\n",
        "    print(num, \"is not a palindrome\")"
      ],
      "metadata": {
        "colab": {
          "base_uri": "https://localhost:8080/"
        },
        "id": "i4Q2dtoFgP8f",
        "outputId": "ceebc5ed-41aa-4741-c773-d700c2565e42"
      },
      "execution_count": null,
      "outputs": [
        {
          "output_type": "stream",
          "name": "stdout",
          "text": [
            "12321 is a palindrome\n"
          ]
        }
      ]
    },
    {
      "cell_type": "code",
      "source": [
        "#Exercise 10:Create a new list from a two list using the following condition?\n",
        "def merge_list(list1,list2):\n",
        "  result_list=[]\n",
        "  for num in list1:\n",
        "    if num %2 !=0:\n",
        "      result_list.append(num)\n",
        "  for num in list2:\n",
        "    if num %2==0:\n",
        "      result_list.append(num)\n",
        "  return result_list\n",
        "\n",
        "list1 = [10, 20, 25, 30, 35]\n",
        "list2 = [40, 45, 60, 75, 90]\n",
        "print(\"result list:\",merge_list(list1,list2))"
      ],
      "metadata": {
        "colab": {
          "base_uri": "https://localhost:8080/"
        },
        "id": "Yq1nYKHA8b0n",
        "outputId": "cc863180-dd0f-4f4d-acb1-27a0f60dab6f"
      },
      "execution_count": null,
      "outputs": [
        {
          "output_type": "stream",
          "name": "stdout",
          "text": [
            "result list: [25, 35, 40, 60, 90]\n"
          ]
        }
      ]
    },
    {
      "cell_type": "code",
      "source": [
        "#Exercise 11: Write a Program to extract each digit from an integer in the reverse order?\n",
        "number=75468\n",
        "print(\"given list:\",number)\n",
        "while number>0:\n",
        "  digit= number % 10\n",
        "  number= number // 10\n",
        "  print(digit,end=\"\")\n"
      ],
      "metadata": {
        "colab": {
          "base_uri": "https://localhost:8080/"
        },
        "id": "T3DSYzVMLrcG",
        "outputId": "ec16019c-7f9d-4a23-e85d-aa3eaac69a57"
      },
      "execution_count": null,
      "outputs": [
        {
          "output_type": "stream",
          "name": "stdout",
          "text": [
            "given list: 75468\n",
            "86457"
          ]
        }
      ]
    },
    {
      "cell_type": "code",
      "source": [
        "#Exercise 12: Calculate income tax for the given income by adhering to the below rules?\n",
        "income=50000\n",
        "tax_payable=0\n",
        "print(\"given number:\",income)\n",
        "if income <= 10000:\n",
        "  tax_payable =0\n",
        "elif income<=20000:\n",
        "  x= income-10000\n",
        "  tax_payable = x *10 / 100\n",
        "else:\n",
        "  tax_payable =  0\n",
        "  tax_payable = 10000 * 10 /100\n",
        "  tax_payable += (income - 20000) * 20 /100\n",
        "  print(\"tax print:\",tax_payable)"
      ],
      "metadata": {
        "colab": {
          "base_uri": "https://localhost:8080/"
        },
        "id": "8HJeA8DWnBuM",
        "outputId": "f90ab415-a002-4ff0-c72e-44d657ea08a0"
      },
      "execution_count": null,
      "outputs": [
        {
          "output_type": "stream",
          "name": "stdout",
          "text": [
            "given number: 50000\n",
            "tax print: 7000.0\n"
          ]
        }
      ]
    },
    {
      "cell_type": "code",
      "source": [
        "#Exercise 13: Print multiplication table form 1 to 10?\n",
        "for i in range(1,11):\n",
        "  for j in range(1,11):\n",
        "       print(i * j,end=\" \")\n",
        "  print(\"\\t\\t\")"
      ],
      "metadata": {
        "colab": {
          "base_uri": "https://localhost:8080/"
        },
        "id": "2GNBT6OFGzfN",
        "outputId": "dafcddb3-1f79-427c-b821-e819fc3fb1de"
      },
      "execution_count": null,
      "outputs": [
        {
          "output_type": "stream",
          "name": "stdout",
          "text": [
            "1 2 3 4 5 6 7 8 9 10 \t\t\n",
            "2 4 6 8 10 12 14 16 18 20 \t\t\n",
            "3 6 9 12 15 18 21 24 27 30 \t\t\n",
            "4 8 12 16 20 24 28 32 36 40 \t\t\n",
            "5 10 15 20 25 30 35 40 45 50 \t\t\n",
            "6 12 18 24 30 36 42 48 54 60 \t\t\n",
            "7 14 21 28 35 42 49 56 63 70 \t\t\n",
            "8 16 24 32 40 48 56 64 72 80 \t\t\n",
            "9 18 27 36 45 54 63 72 81 90 \t\t\n",
            "10 20 30 40 50 60 70 80 90 100 \t\t\n"
          ]
        }
      ]
    },
    {
      "cell_type": "code",
      "source": [
        "#Exercise 14: Print downward Half-Pyramid Pattern with Star (asterisk)?\n",
        "for i in range(6,0,-1):\n",
        "  for j in range(0,i-1):\n",
        "    print(\"*\",end=\" \")\n",
        "  print(\" \")"
      ],
      "metadata": {
        "colab": {
          "base_uri": "https://localhost:8080/"
        },
        "id": "FvPkbk3vXeRS",
        "outputId": "45bb37ff-c6f7-46a8-d015-ae85abb3ccb4"
      },
      "execution_count": null,
      "outputs": [
        {
          "output_type": "stream",
          "name": "stdout",
          "text": [
            "* * * * *  \n",
            "* * * *  \n",
            "* * *  \n",
            "* *  \n",
            "*  \n",
            " \n"
          ]
        }
      ]
    },
    {
      "cell_type": "code",
      "source": [
        "# Exercise 15: Write a function called exponent(base, exp) that returns an int value of base raises to the power of exp.\n",
        "def exponent(base,exp):\n",
        "  result = base ** exp\n",
        "  print(base,\"raises to the power of\",exp,\"is:\",result)\n",
        "exponent(5,4)\n",
        "exponent(2,5)"
      ],
      "metadata": {
        "colab": {
          "base_uri": "https://localhost:8080/"
        },
        "id": "E_lCv3ZyY_DF",
        "outputId": "8e5ed7a7-5b8b-46b2-e43e-1259e449a694"
      },
      "execution_count": null,
      "outputs": [
        {
          "output_type": "stream",
          "name": "stdout",
          "text": [
            "5 raises to the power of 4 is: 625\n",
            "2 raises to the power of 5 is: 32\n"
          ]
        }
      ]
    },
    {
      "cell_type": "code",
      "source": [
        "                                  #INPUT AND OUTPUT EXERCISE\n",
        "#Exercise 1: Accept numbers from a user?\n",
        "num1 = input(\"Enter the number:\")\n",
        "num2 = input(\"Enter the number:\")\n",
        "\n",
        "res = int(num1) * int(num2)\n",
        "print(\"result is:\",res)\n"
      ],
      "metadata": {
        "colab": {
          "base_uri": "https://localhost:8080/"
        },
        "id": "tVyE2m6lZomL",
        "outputId": "56502af1-25ed-4f72-9fe8-38be5b3335f9"
      },
      "execution_count": null,
      "outputs": [
        {
          "output_type": "stream",
          "name": "stdout",
          "text": [
            "Enter the number:4\n",
            "Enter the number:5\n",
            "result is: 20\n"
          ]
        }
      ]
    },
    {
      "cell_type": "code",
      "source": [
        "#Exercise 2: Display three string “Name”, “Is”, “James” as “Name**Is**James”?\n",
        "print('My','name','is','Ankita',sep=\"**\")\n",
        "\n"
      ],
      "metadata": {
        "colab": {
          "base_uri": "https://localhost:8080/"
        },
        "id": "q0F_gn6ebiKx",
        "outputId": "89677fd1-4072-43cb-f988-f6ea23abe275"
      },
      "execution_count": null,
      "outputs": [
        {
          "output_type": "stream",
          "name": "stdout",
          "text": [
            "My**name**is**Ankita\n"
          ]
        }
      ]
    },
    {
      "cell_type": "code",
      "source": [
        "#Exercise 3: Convert Decimal number to octal using print() output formatting?\n",
        "num = 8\n",
        "print('%o'% num)\n"
      ],
      "metadata": {
        "colab": {
          "base_uri": "https://localhost:8080/"
        },
        "id": "n9ZXTjaHnKR9",
        "outputId": "64a3bba9-818e-4c55-e71a-738893325baa"
      },
      "execution_count": null,
      "outputs": [
        {
          "output_type": "stream",
          "name": "stdout",
          "text": [
            "10\n"
          ]
        }
      ]
    },
    {
      "cell_type": "code",
      "source": [
        "#Exercise 4: Display float number with 2 decimal places using?\n",
        "num = 458.541315\n",
        "print('%.2f'%num)"
      ],
      "metadata": {
        "colab": {
          "base_uri": "https://localhost:8080/"
        },
        "id": "yCvEcWersp23",
        "outputId": "a838b57d-edb3-46e8-c3fa-f7956528543e"
      },
      "execution_count": null,
      "outputs": [
        {
          "output_type": "stream",
          "name": "stdout",
          "text": [
            "458.54\n"
          ]
        }
      ]
    },
    {
      "cell_type": "code",
      "source": [
        "#Exercise 5: Accept a list of 5 float numbers as an input from the user?\n",
        "numbers = []\n",
        "for i in range(0,5):\n",
        "  print(\"Enter number location\",i,\":\")\n",
        "  item = float(input())\n",
        "  numbers.append(item)\n",
        "print(\"user list:\",numbers )"
      ],
      "metadata": {
        "colab": {
          "base_uri": "https://localhost:8080/"
        },
        "id": "aCK87lnqvRrz",
        "outputId": "3871aa81-257c-46a8-cd7c-99c21619c8bb"
      },
      "execution_count": null,
      "outputs": [
        {
          "output_type": "stream",
          "name": "stdout",
          "text": [
            "Enter number location 0 :\n",
            "5\n",
            "Enter number location 1 :\n",
            "0.3\n",
            "Enter number location 2 :\n",
            "5.4\n",
            "Enter number location 3 :\n",
            "78.6\n",
            "Enter number location 4 :\n",
            "6.43\n",
            "user list: [5.0, 0.3, 5.4, 78.6, 6.43]\n"
          ]
        }
      ]
    },
    {
      "cell_type": "code",
      "source": [
        "#Exercise 6: Write all content of a given file into a new file by skipping line number 5?\n",
        "with open(\"test.txt\", \"r\") as fp:\n",
        "    lines = fp.readlines()\n",
        "\n",
        "with open(\"new_file.txt\", \"w\") as fp:\n",
        "    count = 0\n",
        "    for line in lines:\n",
        "        if count == 4:\n",
        "            count += 1\n",
        "            continue\n",
        "        else:\n",
        "            fp.write(line)\n",
        "        count += 1"
      ],
      "metadata": {
        "id": "BRHtGppqvk1k"
      },
      "execution_count": null,
      "outputs": []
    },
    {
      "cell_type": "code",
      "source": [
        "# Exercise 7: Accept any three string from one input() call?\n",
        "str1, str2, str3 = input(\"Enter three string:\").split()\n",
        "print(\"Name1:\",str1)\n",
        "print(\"Name2:\",str2)\n",
        "print(\"Name3:\",str3)"
      ],
      "metadata": {
        "id": "Qf1eIaxUPT6Q"
      },
      "execution_count": null,
      "outputs": []
    },
    {
      "cell_type": "code",
      "source": [
        "# Exercise 8: Format variables using a string.format() method?\n",
        "quantity = 3\n",
        "Totalmoney = 1000\n",
        "price = 450\n",
        "\n",
        "statement1 = \"I have {1} dollar so I can buy {0} football for {2:.2f} dollar.\"\n",
        "print(statement1.format(quantity , Totalmoney , price))\n"
      ],
      "metadata": {
        "id": "8wDAKfHbJE58",
        "colab": {
          "base_uri": "https://localhost:8080/"
        },
        "outputId": "3575fd20-3c28-4f50-9166-4c0081f0333d"
      },
      "execution_count": null,
      "outputs": [
        {
          "output_type": "stream",
          "name": "stdout",
          "text": [
            "I have 1000 dollar so I can buy 3 football for 450.00 dollar.\n"
          ]
        }
      ]
    },
    {
      "cell_type": "code",
      "source": [
        "# Exercise 9: Check file is empty or not?\n",
        "import os\n",
        "size = os.stat(\"text.txt\").st_size\n",
        "if  size == 0:\n",
        "  print('file is empty')"
      ],
      "metadata": {
        "id": "B24bJxMhB9oa"
      },
      "execution_count": null,
      "outputs": []
    },
    {
      "cell_type": "code",
      "source": [
        "# Exercise 10: Read line number 4 from the following file?\n"
      ],
      "metadata": {
        "id": "9dAD726Ijdhy"
      },
      "execution_count": null,
      "outputs": []
    },
    {
      "cell_type": "code",
      "source": [
        "                            #loop question\n",
        "#Exercise 1: Print First 10 natural numbers using while loop?\n",
        "i=1\n",
        "while i <=10:\n",
        "  print(i)\n",
        "  i +=1"
      ],
      "metadata": {
        "colab": {
          "base_uri": "https://localhost:8080/"
        },
        "id": "FouDdOZ5goOB",
        "outputId": "904ce60d-bdc4-4f05-9b0f-590a8f8e1c17"
      },
      "execution_count": null,
      "outputs": [
        {
          "output_type": "stream",
          "name": "stdout",
          "text": [
            "1\n",
            "2\n",
            "3\n",
            "4\n",
            "5\n",
            "6\n",
            "7\n",
            "8\n",
            "9\n",
            "10\n"
          ]
        }
      ]
    },
    {
      "cell_type": "code",
      "source": [
        "#Exercise 2: Print the following pattern?\n",
        "print(\"Number pattern\")\n",
        "row = 5\n",
        "for i in range(1,row+1,1):\n",
        "  for j in range(1,i+1):\n",
        "    print(j,end=\" \")\n",
        "  print(\"\")\n"
      ],
      "metadata": {
        "colab": {
          "base_uri": "https://localhost:8080/"
        },
        "id": "w_5-yDzLh9KC",
        "outputId": "4b988476-a0a5-4694-aa11-bde977918c69"
      },
      "execution_count": null,
      "outputs": [
        {
          "output_type": "stream",
          "name": "stdout",
          "text": [
            "Number pattern\n",
            "1 \n",
            "1 2 \n",
            "1 2 3 \n",
            "1 2 3 4 \n",
            "1 2 3 4 5 \n"
          ]
        }
      ]
    },
    {
      "cell_type": "code",
      "source": [
        "#Exercise 3: Calculate the sum of all numbers from 1 to a given number?\n",
        "s = 0\n",
        "n = int(input(\"Enter number:\"))\n",
        "for i in range (1,n+1,1):\n",
        "  s += i\n",
        "  print(\"\\n\")\n",
        "  print(\"sum is:\",s)"
      ],
      "metadata": {
        "id": "4i3TwB5JlHS8",
        "colab": {
          "base_uri": "https://localhost:8080/"
        },
        "outputId": "bdc189b5-dc1f-4485-e196-b4637f16ee50"
      },
      "execution_count": null,
      "outputs": [
        {
          "output_type": "stream",
          "name": "stdout",
          "text": [
            "Enter number:10\n",
            "\n",
            "\n",
            "sum is: 1\n",
            "\n",
            "\n",
            "sum is: 3\n",
            "\n",
            "\n",
            "sum is: 6\n",
            "\n",
            "\n",
            "sum is: 10\n",
            "\n",
            "\n",
            "sum is: 15\n",
            "\n",
            "\n",
            "sum is: 21\n",
            "\n",
            "\n",
            "sum is: 28\n",
            "\n",
            "\n",
            "sum is: 36\n",
            "\n",
            "\n",
            "sum is: 45\n",
            "\n",
            "\n",
            "sum is: 55\n"
          ]
        }
      ]
    },
    {
      "cell_type": "code",
      "source": [
        "#Exercise 4: Write a program to print multiplication table of a given number?\n",
        "n = int(input(\"Enter number:\"))\n",
        "for i in range(1,11,1):\n",
        "  product = n * i\n",
        "  print(product)\n"
      ],
      "metadata": {
        "colab": {
          "base_uri": "https://localhost:8080/"
        },
        "id": "OI35ZLVwOgyf",
        "outputId": "c75a4b23-c675-4a6a-cd3f-bb529b36ff59"
      },
      "execution_count": null,
      "outputs": [
        {
          "output_type": "stream",
          "name": "stdout",
          "text": [
            "Enter number:3\n",
            "3\n",
            "6\n",
            "9\n",
            "12\n",
            "15\n",
            "18\n",
            "21\n",
            "24\n",
            "27\n",
            "30\n"
          ]
        }
      ]
    },
    {
      "cell_type": "code",
      "source": [
        "#Exercise 5: Display numbers from a list using loop?\n",
        "number = [12, 75, 150, 180, 145, 525, 50]\n",
        "for item in number:\n",
        "  if item > 500:\n",
        "    break\n",
        "  elif item > 150:\n",
        "    continue\n",
        "  elif item % 5 == 0:\n",
        "    print(item)"
      ],
      "metadata": {
        "id": "Ikp3LJgXTejX",
        "colab": {
          "base_uri": "https://localhost:8080/"
        },
        "outputId": "3126bff5-7739-4aad-ae7a-789d6a25f23f"
      },
      "execution_count": null,
      "outputs": [
        {
          "output_type": "stream",
          "name": "stdout",
          "text": [
            "75\n",
            "150\n",
            "145\n"
          ]
        }
      ]
    },
    {
      "cell_type": "code",
      "source": [
        "#Exercise 6: Count the total number of digits in a number?\n",
        "number = 75869\n",
        "count = 0\n",
        "while number != 0:\n",
        "  #floor division\n",
        "  #to reduce the last digit form number\n",
        "  number = number//10\n",
        "  #increment counter by 1\n",
        "  count = count +1\n",
        "print(\"Total digits are:\",count)"
      ],
      "metadata": {
        "colab": {
          "base_uri": "https://localhost:8080/"
        },
        "id": "FmGhcoepKXEw",
        "outputId": "0bb9ed2a-6f9c-42cb-d401-0df86ffae1d6"
      },
      "execution_count": null,
      "outputs": [
        {
          "output_type": "stream",
          "name": "stdout",
          "text": [
            "Total digits are: 5\n"
          ]
        }
      ]
    },
    {
      "cell_type": "code",
      "source": [
        "#Exercise 7: Print the following pattern?\n",
        "n = 5\n",
        "k = 5\n",
        "for i in range(0,n+1):\n",
        "  for j in range(k-i,0,-1):\n",
        "    print(j,end=' ')\n",
        "  print()"
      ],
      "metadata": {
        "colab": {
          "base_uri": "https://localhost:8080/"
        },
        "id": "Q0-vqry0NTd1",
        "outputId": "c20034eb-3a1f-4956-984c-d5c904be03f2"
      },
      "execution_count": null,
      "outputs": [
        {
          "output_type": "stream",
          "name": "stdout",
          "text": [
            "5 4 3 2 1 \n",
            "4 3 2 1 \n",
            "3 2 1 \n",
            "2 1 \n",
            "1 \n",
            "\n"
          ]
        }
      ]
    },
    {
      "cell_type": "code",
      "source": [
        "#Exercise 8: Print list in reverse order using a loop\n",
        "list= [10,20,30,40,50]\n",
        "new_list =reversed(list)\n",
        "for item in new_list:\n",
        "  print(item)"
      ],
      "metadata": {
        "colab": {
          "base_uri": "https://localhost:8080/"
        },
        "id": "IQwl669EWvAn",
        "outputId": "477197f6-8748-4f9e-c427-5356a3612abf"
      },
      "execution_count": null,
      "outputs": [
        {
          "output_type": "stream",
          "name": "stdout",
          "text": [
            "50\n",
            "40\n",
            "30\n",
            "20\n",
            "10\n"
          ]
        }
      ]
    },
    {
      "cell_type": "code",
      "source": [
        "#Exercise 9: Display numbers from -10 to -1 using for loop\n",
        "for i in range(-10,0):\n",
        "  print(i)"
      ],
      "metadata": {
        "colab": {
          "base_uri": "https://localhost:8080/"
        },
        "id": "QOxqNIawuBMp",
        "outputId": "c98e9ede-28cd-4f5d-9ba9-8794294000ff"
      },
      "execution_count": null,
      "outputs": [
        {
          "output_type": "stream",
          "name": "stdout",
          "text": [
            "-10\n",
            "-9\n",
            "-8\n",
            "-7\n",
            "-6\n",
            "-5\n",
            "-4\n",
            "-3\n",
            "-2\n",
            "-1\n"
          ]
        }
      ]
    },
    {
      "cell_type": "code",
      "source": [
        "#Exercise 10: Use else block to display a message “Done” after successful execution of for loop\n",
        "for i in range(5):\n",
        "  print(i)\n",
        "else:\n",
        "  print(\"Done!\")\n"
      ],
      "metadata": {
        "colab": {
          "base_uri": "https://localhost:8080/"
        },
        "id": "Hc2dNzyBvDoc",
        "outputId": "891ab1fd-4dc8-495b-d4f8-e9818009f72e"
      },
      "execution_count": null,
      "outputs": [
        {
          "output_type": "stream",
          "name": "stdout",
          "text": [
            "0\n",
            "1\n",
            "2\n",
            "3\n",
            "4\n",
            "Done!\n"
          ]
        }
      ]
    },
    {
      "cell_type": "code",
      "source": [
        "#Exercise 11: Write a program to display all prime numbers within a range\n",
        "start= 25\n",
        "end= 50\n",
        "for num in range(start,end+1):\n",
        "  if num > 1:\n",
        "    for i in range(2,num):\n",
        "      if (num%i)==0:\n",
        "        break\n",
        "    else:\n",
        "        print(\"prime number:\",num)"
      ],
      "metadata": {
        "colab": {
          "base_uri": "https://localhost:8080/"
        },
        "id": "HidD2AFfwgu9",
        "outputId": "92f125e8-d1d0-49e2-d142-f28767045751"
      },
      "execution_count": null,
      "outputs": [
        {
          "output_type": "stream",
          "name": "stdout",
          "text": [
            "prime number: 29\n",
            "prime number: 31\n",
            "prime number: 37\n",
            "prime number: 41\n",
            "prime number: 43\n",
            "prime number: 47\n"
          ]
        }
      ]
    },
    {
      "cell_type": "code",
      "source": [
        "#Exercise 12: Display Fibonacci series up to 10 terms?\n",
        "num1,num2 = 0,1\n",
        "print(\"Fibonacci Squence:\")\n",
        "for i in range(10):\n",
        "  print(num1,end=\" \")\n",
        "\n",
        "  res= num1+num2\n",
        "  num1 = num2\n",
        "  num2 = res\n"
      ],
      "metadata": {
        "id": "KT6Dl2oU1_Cf",
        "colab": {
          "base_uri": "https://localhost:8080/"
        },
        "outputId": "1f107324-861b-4ed3-e88d-56a48de997a2"
      },
      "execution_count": null,
      "outputs": [
        {
          "output_type": "stream",
          "name": "stdout",
          "text": [
            "Fibonacci Squence:\n",
            "0 1 1 2 3 5 8 13 21 34 "
          ]
        }
      ]
    },
    {
      "cell_type": "code",
      "source": [
        "#Exercise 13: Find the factorial of a given number?\n",
        "num = 5\n",
        "factorial=1\n",
        "if num < 0 :\n",
        "  print(\"Factorial does not exit for negative numbers\")\n",
        "elif num == 0 :\n",
        "  print(\"Factorial of 0 is 1\")\n",
        "else:\n",
        "  for i in range(1, num+1):\n",
        "    factorial = factorial*i\n",
        "  print(\"the factorial of\",num,\"is:\", factorial)"
      ],
      "metadata": {
        "colab": {
          "base_uri": "https://localhost:8080/"
        },
        "id": "B-_NXJEjN4Jg",
        "outputId": "b11e3670-3bfe-4438-8c22-0712571585f7"
      },
      "execution_count": null,
      "outputs": [
        {
          "output_type": "stream",
          "name": "stdout",
          "text": [
            "the factorial of 5 is: 120\n"
          ]
        }
      ]
    },
    {
      "cell_type": "code",
      "source": [
        "#Exercise 14: Reverse a given integer number?\n",
        "num = 76542\n",
        "reverse_number = 0\n",
        "print(\"Given number:\", num)\n",
        "while num > 0:\n",
        "  remainder = num % 10\n",
        "  reverse_number = (reverse_number * 10) + remainder\n",
        "  num=num // 10\n",
        "print(reverse_number)\n",
        "\n",
        "\n",
        "\n"
      ],
      "metadata": {
        "colab": {
          "base_uri": "https://localhost:8080/"
        },
        "id": "sMzVAK1hSWxW",
        "outputId": "9cf11761-dc50-45a0-c234-f212e595160a"
      },
      "execution_count": null,
      "outputs": [
        {
          "output_type": "stream",
          "name": "stdout",
          "text": [
            "Given number: 76542\n",
            "24567\n"
          ]
        }
      ]
    },
    {
      "cell_type": "code",
      "source": [
        "#Exercise 15: Use a loop to display elements from a given list present at odd index positions?\n",
        "my_list = [10,20,30,40,50,60,70,80,90,100]\n",
        "for i in my_list[1:10:2]:\n",
        "  print(i,end=\" \")"
      ],
      "metadata": {
        "colab": {
          "base_uri": "https://localhost:8080/"
        },
        "id": "i6OxwkjugJzS",
        "outputId": "2545e5ce-f49f-469e-ce5e-adf28ddd96f4"
      },
      "execution_count": null,
      "outputs": [
        {
          "output_type": "stream",
          "name": "stdout",
          "text": [
            "20 40 60 80 100 "
          ]
        }
      ]
    },
    {
      "cell_type": "code",
      "source": [
        "#Exercise 16: Calculate the cube of all numbers from 1 to a given number?\n"
      ],
      "metadata": {
        "id": "Bibo7aTNkNqx"
      },
      "execution_count": null,
      "outputs": []
    },
    {
      "cell_type": "code",
      "source": [
        "def solveMeFirst(a,b):\n",
        "\t# Hint: Type return a+b below\n",
        "\n",
        "   num1 = int(input(\"Enter the first number\"))\n",
        "   num2= int(input(\"Enter the second number\"))\n",
        "   res = solveMeFirst(num1+num2)\n",
        "   print(\"two number sum:\", res)"
      ],
      "metadata": {
        "id": "V47rJbBW6BA0"
      },
      "execution_count": null,
      "outputs": []
    }
  ]
}